{
 "cells": [
  {
   "cell_type": "markdown",
   "metadata": {
    "collapsed": true
   },
   "source": [
    "# Word Embeddings Training Tutorial\n",
    "This tutorial shows how to train word embeddings using word2vec. The python package used is Gensim\n",
    "\n",
    "https://radimrehurek.com/gensim/\n",
    "\n",
    "We are going to use the movie review data sets to train our own word embbedings and we are going to compare it with the pretreained word embeddings from google.\n",
    "\n",
    "- Movie Review data set\n",
    "http://ai.stanford.edu/~amaas/data/sentiment/\n",
    "\n",
    "- Google pre-trained word embeddings using word2vec\n",
    "https://code.google.com/archive/p/word2vec/"
   ]
  },
  {
   "cell_type": "code",
   "execution_count": null,
   "metadata": {
    "collapsed": true
   },
   "outputs": [],
   "source": [
    "# Read the files\n",
    "from sentence_iterator import SentenceIterator\n",
    "file_path = \"/home/jose/aclImdb_data/all_data\"\n",
    "sentences = SentenceIterator(file_path)"
   ]
  },
  {
   "cell_type": "code",
   "execution_count": null,
   "metadata": {},
   "outputs": [
    {
     "name": "stderr",
     "output_type": "stream",
     "text": [
      "Using TensorFlow backend.\n"
     ]
    }
   ],
   "source": [
    "# Import the library\n",
    "import gensim\n",
    "# min_count is the minimum number of times a \n",
    "# word needs to occur in the corpus to be used by the algorithm during training\n",
    "min_count = 10\n",
    "embeddings_size = 100\n",
    "# number of workers for parallel processing\n",
    "workers = 20\n",
    "model = gensim.models.Word2Vec(sentences, min_count=min_count, workers=workers)"
   ]
  },
  {
   "cell_type": "code",
   "execution_count": null,
   "metadata": {
    "collapsed": true
   },
   "outputs": [],
   "source": [
    "# saving the model\n",
    "model.save(\"word2vec_model\")"
   ]
  },
  {
   "cell_type": "code",
   "execution_count": null,
   "metadata": {
    "collapsed": true
   },
   "outputs": [],
   "source": []
  }
 ],
 "metadata": {
  "kernelspec": {
   "display_name": "pacific tensorflow13",
   "language": "python",
   "name": "tensorflow13"
  },
  "language_info": {
   "codemirror_mode": {
    "name": "ipython",
    "version": 3
   },
   "file_extension": ".py",
   "mimetype": "text/x-python",
   "name": "python",
   "nbconvert_exporter": "python",
   "pygments_lexer": "ipython3",
   "version": "3.5.4"
  }
 },
 "nbformat": 4,
 "nbformat_minor": 1
}
